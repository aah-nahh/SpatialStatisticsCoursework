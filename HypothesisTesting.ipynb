{
 "cells": [
  {
   "cell_type": "markdown",
   "id": "0e66c522-3aac-43f6-9262-1fd494dd0599",
   "metadata": {},
   "source": [
    "#### - Assignment 6 Anna Feldman"
   ]
  },
  {
   "cell_type": "code",
   "execution_count": 1,
   "id": "9795e2d8-f541-4a96-93ab-15a1571baf74",
   "metadata": {},
   "outputs": [
    {
     "name": "stderr",
     "output_type": "stream",
     "text": [
      "/var/folders/sf/whvty1j57cxcxs3t3mhwbcgh0000gn/T/ipykernel_33120/2854953054.py:2: DeprecationWarning: \n",
      "Pyarrow will become a required dependency of pandas in the next major release of pandas (pandas 3.0),\n",
      "(to allow more performant data types, such as the Arrow string type, and better interoperability with other libraries)\n",
      "but was not found to be installed on your system.\n",
      "If this would cause problems for you,\n",
      "please provide us feedback at https://github.com/pandas-dev/pandas/issues/54466\n",
      "        \n",
      "  import pandas as pd\n"
     ]
    }
   ],
   "source": [
    "import numpy as np\n",
    "import pandas as pd\n",
    "import seaborn as sns\n",
    "from scipy import stats"
   ]
  },
  {
   "cell_type": "markdown",
   "id": "cf083e00-4f5d-44cd-930a-f4a2bfcb4f76",
   "metadata": {},
   "source": [
    "#### Read this CSV into a DataFrame called df and view the first few rows."
   ]
  },
  {
   "cell_type": "code",
   "execution_count": 2,
   "id": "1fa164dc-7776-451b-8252-be101b7f603d",
   "metadata": {},
   "outputs": [],
   "source": [
    "url=\"data/citibike_sample_boros.csv\""
   ]
  },
  {
   "cell_type": "code",
   "execution_count": 3,
   "id": "63b50b63-56fb-40e8-83f1-1ac0ab73a07f",
   "metadata": {},
   "outputs": [
    {
     "data": {
      "text/html": [
       "<div>\n",
       "<style scoped>\n",
       "    .dataframe tbody tr th:only-of-type {\n",
       "        vertical-align: middle;\n",
       "    }\n",
       "\n",
       "    .dataframe tbody tr th {\n",
       "        vertical-align: top;\n",
       "    }\n",
       "\n",
       "    .dataframe thead th {\n",
       "        text-align: right;\n",
       "    }\n",
       "</style>\n",
       "<table border=\"1\" class=\"dataframe\">\n",
       "  <thead>\n",
       "    <tr style=\"text-align: right;\">\n",
       "      <th></th>\n",
       "      <th>starttime</th>\n",
       "      <th>hour</th>\n",
       "      <th>day</th>\n",
       "      <th>usertype</th>\n",
       "      <th>gender</th>\n",
       "      <th>age</th>\n",
       "      <th>tripduration_minutes</th>\n",
       "      <th>distance_miles</th>\n",
       "      <th>start_boro</th>\n",
       "      <th>end_boro</th>\n",
       "    </tr>\n",
       "  </thead>\n",
       "  <tbody>\n",
       "    <tr>\n",
       "      <th>0</th>\n",
       "      <td>2020-10-27 16:51:37.994</td>\n",
       "      <td>16</td>\n",
       "      <td>Tuesday</td>\n",
       "      <td>Subscriber</td>\n",
       "      <td>male</td>\n",
       "      <td>37</td>\n",
       "      <td>21.816667</td>\n",
       "      <td>3.047236</td>\n",
       "      <td>Manhattan</td>\n",
       "      <td>Manhattan</td>\n",
       "    </tr>\n",
       "    <tr>\n",
       "      <th>1</th>\n",
       "      <td>2020-10-09 19:46:12.616</td>\n",
       "      <td>19</td>\n",
       "      <td>Friday</td>\n",
       "      <td>Subscriber</td>\n",
       "      <td>male</td>\n",
       "      <td>24</td>\n",
       "      <td>25.883333</td>\n",
       "      <td>1.418907</td>\n",
       "      <td>Manhattan</td>\n",
       "      <td>Manhattan</td>\n",
       "    </tr>\n",
       "    <tr>\n",
       "      <th>2</th>\n",
       "      <td>2020-10-10 15:19:17.455</td>\n",
       "      <td>15</td>\n",
       "      <td>Saturday</td>\n",
       "      <td>Subscriber</td>\n",
       "      <td>female</td>\n",
       "      <td>36</td>\n",
       "      <td>7.283333</td>\n",
       "      <td>0.502512</td>\n",
       "      <td>Brooklyn</td>\n",
       "      <td>Brooklyn</td>\n",
       "    </tr>\n",
       "    <tr>\n",
       "      <th>3</th>\n",
       "      <td>2020-10-28 01:30:42.644</td>\n",
       "      <td>1</td>\n",
       "      <td>Wednesday</td>\n",
       "      <td>Subscriber</td>\n",
       "      <td>male</td>\n",
       "      <td>31</td>\n",
       "      <td>24.833333</td>\n",
       "      <td>0.633161</td>\n",
       "      <td>Brooklyn</td>\n",
       "      <td>Brooklyn</td>\n",
       "    </tr>\n",
       "    <tr>\n",
       "      <th>4</th>\n",
       "      <td>2020-10-11 16:48:46.773</td>\n",
       "      <td>16</td>\n",
       "      <td>Sunday</td>\n",
       "      <td>Subscriber</td>\n",
       "      <td>male</td>\n",
       "      <td>42</td>\n",
       "      <td>19.633333</td>\n",
       "      <td>1.002208</td>\n",
       "      <td>Brooklyn</td>\n",
       "      <td>Brooklyn</td>\n",
       "    </tr>\n",
       "  </tbody>\n",
       "</table>\n",
       "</div>"
      ],
      "text/plain": [
       "                 starttime  hour        day    usertype  gender  age  \\\n",
       "0  2020-10-27 16:51:37.994    16    Tuesday  Subscriber    male   37   \n",
       "1  2020-10-09 19:46:12.616    19     Friday  Subscriber    male   24   \n",
       "2  2020-10-10 15:19:17.455    15   Saturday  Subscriber  female   36   \n",
       "3  2020-10-28 01:30:42.644     1  Wednesday  Subscriber    male   31   \n",
       "4  2020-10-11 16:48:46.773    16     Sunday  Subscriber    male   42   \n",
       "\n",
       "   tripduration_minutes  distance_miles start_boro   end_boro  \n",
       "0             21.816667        3.047236  Manhattan  Manhattan  \n",
       "1             25.883333        1.418907  Manhattan  Manhattan  \n",
       "2              7.283333        0.502512   Brooklyn   Brooklyn  \n",
       "3             24.833333        0.633161   Brooklyn   Brooklyn  \n",
       "4             19.633333        1.002208   Brooklyn   Brooklyn  "
      ]
     },
     "execution_count": 3,
     "metadata": {},
     "output_type": "execute_result"
    }
   ],
   "source": [
    "df = pd.read_csv(url)\n",
    "df.head()"
   ]
  },
  {
   "cell_type": "markdown",
   "id": "9aa07fea-2cea-462d-a011-27b274b1856c",
   "metadata": {},
   "source": [
    "#### 2a - Let x = an array of trip durations from Subscribers, and let y = an array of trip durations from Customers. Calculate the mean of x and the mean of y."
   ]
  },
  {
   "cell_type": "code",
   "execution_count": 4,
   "id": "f79dfc61-6d22-4a53-a782-ad3a883a90d3",
   "metadata": {},
   "outputs": [],
   "source": [
    "condition = df['usertype'] == 'Subscriber'\n",
    "subsc_df = df[condition]"
   ]
  },
  {
   "cell_type": "code",
   "execution_count": 5,
   "id": "7430de1d-33b5-40e1-92cb-932f41f0e96f",
   "metadata": {},
   "outputs": [],
   "source": [
    "condition2 = df['usertype'] == 'Customer'\n",
    "cust_df = df[condition2]"
   ]
  },
  {
   "cell_type": "code",
   "execution_count": 6,
   "id": "7c192cfe-9ee4-42d1-acdf-9f0191ca473f",
   "metadata": {},
   "outputs": [
    {
     "data": {
      "text/plain": [
       "pandas.core.series.Series"
      ]
     },
     "execution_count": 6,
     "metadata": {},
     "output_type": "execute_result"
    }
   ],
   "source": [
    "x = subsc_df['tripduration_minutes']\n",
    "y = cust_df['tripduration_minutes']\n",
    "type(x)"
   ]
  },
  {
   "cell_type": "code",
   "execution_count": 7,
   "id": "68d15021-9a86-441f-bd53-42e1f83b24d5",
   "metadata": {},
   "outputs": [
    {
     "data": {
      "text/plain": [
       "0         21.816667\n",
       "1         25.883333\n",
       "2          7.283333\n",
       "3         24.833333\n",
       "4         19.633333\n",
       "            ...    \n",
       "499988     8.916667\n",
       "499991    15.683333\n",
       "499993     6.300000\n",
       "499998    13.200000\n",
       "499999    45.650000\n",
       "Name: tripduration_minutes, Length: 374976, dtype: float64"
      ]
     },
     "execution_count": 7,
     "metadata": {},
     "output_type": "execute_result"
    }
   ],
   "source": [
    "x"
   ]
  },
  {
   "cell_type": "code",
   "execution_count": 8,
   "id": "6e483bb6-481c-4024-b850-7b4f3b4f0021",
   "metadata": {},
   "outputs": [
    {
     "data": {
      "text/plain": [
       "15.53193888853331"
      ]
     },
     "execution_count": 8,
     "metadata": {},
     "output_type": "execute_result"
    }
   ],
   "source": [
    "np.mean(x)"
   ]
  },
  {
   "cell_type": "code",
   "execution_count": 9,
   "id": "231ac1c5-464f-4436-bbff-ea4ee527dada",
   "metadata": {},
   "outputs": [
    {
     "data": {
      "text/plain": [
       "22.699227881580065"
      ]
     },
     "execution_count": 9,
     "metadata": {},
     "output_type": "execute_result"
    }
   ],
   "source": [
    "np.mean(y)"
   ]
  },
  {
   "cell_type": "markdown",
   "id": "712f365e-4e44-4169-95e0-70251ce3c5e3",
   "metadata": {},
   "source": [
    "#### 2b - Perform a two-sided t-test using stats.ttest_ind(x, y). Clearly state the null hypothesis and alternative hypothesis for this test. Report the resulting t-statistic and p-value. Based on the p-value obtained, do we reject the null hypothesis in favor of the alternative hypothesis?\n",
    "\n",
    "Null hypothesis: Trip durations on average are the same across both usertypes. /\n",
    "Alternative hypothesis: Trip durations on average are different across the two usertypes: one is higher or lower than the other."
   ]
  },
  {
   "cell_type": "code",
   "execution_count": 10,
   "id": "cde5cba8-c96b-4b7a-888a-0d0887dc530b",
   "metadata": {},
   "outputs": [
    {
     "data": {
      "text/plain": [
       "TtestResult(statistic=-153.8859949481218, pvalue=0.0, df=499998.0)"
      ]
     },
     "execution_count": 10,
     "metadata": {},
     "output_type": "execute_result"
    }
   ],
   "source": [
    "stats.ttest_ind(x,y)"
   ]
  },
  {
   "cell_type": "markdown",
   "id": "695f24f1-4165-47dc-bf63-814a83b3d55d",
   "metadata": {},
   "source": [
    "#### Reject the null because of the p value of 0. These values could not have come from the sample if the null were true. Because this is two sided we cannot know which way the alternative hypothesis goes, but we know that the trip durations are different across the two usertypes."
   ]
  },
  {
   "cell_type": "markdown",
   "id": "ab629af4-3161-414f-aabb-1faf40ad83da",
   "metadata": {},
   "source": [
    "#### 2c - Perform a one-sided t-test using stats.ttest_ind(x, y, alternative='less'). Clearly state the null hypothesis and alternative hypothesis for this test. Report the resulting t-statistic and p-value. Based on the p-value obtained, do we reject the null hypothesis in favor of the alternative hypothesis?\n",
    "Null hypothesis: Trip durations on average are the same across both usertypes. / Alternative hypothesis: Trip durations in the x (Subscriber) group are lower on average than the y (Customer) group."
   ]
  },
  {
   "cell_type": "code",
   "execution_count": 11,
   "id": "fc2ede03-8714-409c-9c6c-d84499623014",
   "metadata": {},
   "outputs": [
    {
     "data": {
      "text/plain": [
       "TtestResult(statistic=-153.8859949481218, pvalue=0.0, df=499998.0)"
      ]
     },
     "execution_count": 11,
     "metadata": {},
     "output_type": "execute_result"
    }
   ],
   "source": [
    "stats.ttest_ind(x,y, alternative = 'less')"
   ]
  },
  {
   "cell_type": "markdown",
   "id": "a92aba83-e7a4-47f8-84c0-e602fc2892b5",
   "metadata": {},
   "source": [
    "#### Reject the null in favor of the alternative because of the p value of 0. These values could not have come from the sample if the null were true and must come from the alternative that x is less than y."
   ]
  },
  {
   "cell_type": "markdown",
   "id": "b50ec5eb-330b-427f-9434-e9b8c2785c5c",
   "metadata": {},
   "source": [
    "#### 2d - The t-test assumes that x and y are drawn from normally-distributed populations. Determine whether this is an appropriate assumption by running stats.normaltest() on x and y (separately). Based on the p-values obtained, determine whether x and y are drawn from a normally-distributed population. Given this result, is a t-test an appropriate test to use in this situation?\n"
   ]
  },
  {
   "cell_type": "code",
   "execution_count": 12,
   "id": "3cb60079-1421-4b2c-ad12-a0abc4d1905b",
   "metadata": {},
   "outputs": [
    {
     "data": {
      "text/plain": [
       "NormaltestResult(statistic=235837.77265996154, pvalue=0.0)"
      ]
     },
     "execution_count": 12,
     "metadata": {},
     "output_type": "execute_result"
    }
   ],
   "source": [
    "stats.normaltest(x)"
   ]
  },
  {
   "cell_type": "code",
   "execution_count": 13,
   "id": "c8a116db-b265-4ac8-b772-1f7c990dff81",
   "metadata": {},
   "outputs": [
    {
     "data": {
      "text/plain": [
       "NormaltestResult(statistic=79523.59976336165, pvalue=0.0)"
      ]
     },
     "execution_count": 13,
     "metadata": {},
     "output_type": "execute_result"
    }
   ],
   "source": [
    "stats.normaltest(y)"
   ]
  },
  {
   "cell_type": "markdown",
   "id": "448ca674-7040-49f6-b4fe-cb5c1fbab481",
   "metadata": {},
   "source": [
    "#### Since the null hypothesis of this test is that the sample is normally distributed and the alternative is that it is not, this p value of 0 means we reject the null and learn that neither of these are normally distributed. T-tests are not appropriate in this situation."
   ]
  },
  {
   "cell_type": "markdown",
   "id": "c746db33-9762-4ed2-8ea0-182ee0dbfd2b",
   "metadata": {},
   "source": [
    "#### 2e - Perform a one-sided Mann Whitney U test with stats.mannwhitneyu(x, y, alternative='less'). Clearly state the null hypothesis and alternative hypothesis for this test. Report the resulting U-statistic and p-value. Based on the p-value obtained, do we reject the null hypothesis in favor of the alternative hypothesis?\n",
    "Null hypothesis: Trip durations are the same across both usertypes. / Alternative hypothesis: Trip durations in the x (Subscriber) group are less than the y (Customer) group."
   ]
  },
  {
   "cell_type": "code",
   "execution_count": 14,
   "id": "d09d89ef-e591-4a8e-80ed-3c618031e49d",
   "metadata": {},
   "outputs": [
    {
     "data": {
      "text/plain": [
       "MannwhitneyuResult(statistic=16611093589.5, pvalue=0.0)"
      ]
     },
     "execution_count": 14,
     "metadata": {},
     "output_type": "execute_result"
    }
   ],
   "source": [
    "stats.mannwhitneyu(x,y, alternative ='less') "
   ]
  },
  {
   "cell_type": "markdown",
   "id": "a5de6aae-ceda-4c68-8010-36564f779ca8",
   "metadata": {},
   "source": [
    "#### Reject the null in favor of the alternative because of the p value of 0. These values could not have come from the sample if the null were true and must come from the alternative that x is less than y."
   ]
  },
  {
   "cell_type": "markdown",
   "id": "7942af55-abbf-4e62-bc6b-10249c1a00a4",
   "metadata": {},
   "source": [
    "#### 3a - Let x = an array of trip durations for trips that start in Brooklyn from users having usertype = Customer, and let y = an array of trip durations for trips that start in Queens from users having usertype = Customer. Calculate the mean and median of x, and the mean and median of y."
   ]
  },
  {
   "cell_type": "code",
   "execution_count": 15,
   "id": "73cc856c-2e2d-4702-b559-88058873df99",
   "metadata": {},
   "outputs": [
    {
     "data": {
      "text/plain": [
       "pandas.core.series.Series"
      ]
     },
     "execution_count": 15,
     "metadata": {},
     "output_type": "execute_result"
    }
   ],
   "source": [
    "condition3 = (df['usertype'] == 'Customer') & (df['start_boro'] == 'Brooklyn')\n",
    "newx_df = df[condition3]\n",
    "x = newx_df['tripduration_minutes']\n",
    "type(x)"
   ]
  },
  {
   "cell_type": "code",
   "execution_count": 16,
   "id": "3c780ddb-877f-4d1f-a3c9-a9496bed6aa7",
   "metadata": {},
   "outputs": [],
   "source": [
    "condition4 = (df['usertype'] == 'Customer') & (df['start_boro'] == 'Queens')\n",
    "newy_df = df[condition4]\n",
    "y = newy_df['tripduration_minutes']"
   ]
  },
  {
   "cell_type": "code",
   "execution_count": 17,
   "id": "0a7b19c9-91af-459d-96eb-ae6a29159281",
   "metadata": {},
   "outputs": [
    {
     "data": {
      "text/plain": [
       "21.955716883433674"
      ]
     },
     "execution_count": 17,
     "metadata": {},
     "output_type": "execute_result"
    }
   ],
   "source": [
    "np.mean(x)"
   ]
  },
  {
   "cell_type": "code",
   "execution_count": 18,
   "id": "21b71af4-941f-4b09-aa7a-03320903d0eb",
   "metadata": {},
   "outputs": [
    {
     "data": {
      "text/plain": [
       "17.8"
      ]
     },
     "execution_count": 18,
     "metadata": {},
     "output_type": "execute_result"
    }
   ],
   "source": [
    "np.median(x)"
   ]
  },
  {
   "cell_type": "code",
   "execution_count": 19,
   "id": "741a7d25-8c6b-4258-9b88-0a09f71e6961",
   "metadata": {},
   "outputs": [
    {
     "data": {
      "text/plain": [
       "21.91483316133471"
      ]
     },
     "execution_count": 19,
     "metadata": {},
     "output_type": "execute_result"
    }
   ],
   "source": [
    "np.mean(y)"
   ]
  },
  {
   "cell_type": "code",
   "execution_count": 20,
   "id": "29ff8419-1657-4264-84bf-92f6bc61395c",
   "metadata": {},
   "outputs": [
    {
     "data": {
      "text/plain": [
       "16.983333333333334"
      ]
     },
     "execution_count": 20,
     "metadata": {},
     "output_type": "execute_result"
    }
   ],
   "source": [
    "np.median(y)"
   ]
  },
  {
   "cell_type": "markdown",
   "id": "540ad436-a090-44ef-8720-bdcd5e3b0824",
   "metadata": {},
   "source": [
    "#### 3b- Perform a two-sided t-test between x and y. Clearly state the null and alternative hyptheses for the test, and interpret the results. Based on the resulting p-value, would you reject the null hypothesis or not?\n",
    "Null hypothesis: Trip durations are the same across both usertypes. / Alternative hypothesis: Trip durations in the x (Subscriber) group are different (greater OR less than) the y (Customer) group."
   ]
  },
  {
   "cell_type": "code",
   "execution_count": 21,
   "id": "b4b435be-fe2a-4f29-a328-48f489d50601",
   "metadata": {},
   "outputs": [
    {
     "data": {
      "text/plain": [
       "TtestResult(statistic=0.14875848407479839, pvalue=0.8817450702930821, df=34906.0)"
      ]
     },
     "execution_count": 21,
     "metadata": {},
     "output_type": "execute_result"
    }
   ],
   "source": [
    "stats.ttest_ind(x,y)"
   ]
  },
  {
   "cell_type": "markdown",
   "id": "bbbb0876-c429-418a-85ea-d374205df3cb",
   "metadata": {},
   "source": [
    "#### Cannot reject the null in this case. P value is high at .88, close to the maximum value of 1, meaning that if the null were true, you would be highly likely, but not certain, to get a sample that looks like this one."
   ]
  },
  {
   "cell_type": "markdown",
   "id": "ffe663fe-9af8-4b9b-a4c5-f9322c87a0ae",
   "metadata": {},
   "source": [
    "#### 3c - As we know, the t-test assumes that x and y are drawn from normally distributed populations. Plot a histogram of x and another histogram of y. Do x and y look normally distributed? Confirm your conclusion by running a statistical test for normality in both x and y. Based on the results, is a t-test appropriate in this situation?"
   ]
  },
  {
   "cell_type": "code",
   "execution_count": 22,
   "id": "00b82917-082f-447c-b8fe-3a2f8e78354a",
   "metadata": {},
   "outputs": [
    {
     "data": {
      "image/png": "[encoded data removed]",
      "text/plain": [
       "<Figure size 640x480 with 1 Axes>"
      ]
     },
     "metadata": {},
     "output_type": "display_data"
    }
   ],
   "source": [
    "sns.histplot(x);"
   ]
  },
  {
   "cell_type": "code",
   "execution_count": 23,
   "id": "f54faefb-0862-4894-a27b-edd46e33926a",
   "metadata": {},
   "outputs": [
    {
     "data": {
      "image/png": "[encoded data removed]",
      "text/plain": [
       "<Figure size 640x480 with 1 Axes>"
      ]
     },
     "metadata": {},
     "output_type": "display_data"
    }
   ],
   "source": [
    "sns.histplot(y);"
   ]
  },
  {
   "cell_type": "code",
   "execution_count": 24,
   "id": "b63a3553-acb5-4510-ab09-0ceb3eeafa20",
   "metadata": {},
   "outputs": [
    {
     "data": {
      "text/plain": [
       "NormaltestResult(statistic=19751.950808189416, pvalue=0.0)"
      ]
     },
     "execution_count": 24,
     "metadata": {},
     "output_type": "execute_result"
    }
   ],
   "source": [
    "stats.normaltest(x)"
   ]
  },
  {
   "cell_type": "code",
   "execution_count": 25,
   "id": "3c0624c3-573f-44ce-8376-a49270753580",
   "metadata": {},
   "outputs": [
    {
     "data": {
      "text/plain": [
       "NormaltestResult(statistic=2884.227390614744, pvalue=0.0)"
      ]
     },
     "execution_count": 25,
     "metadata": {},
     "output_type": "execute_result"
    }
   ],
   "source": [
    "stats.normaltest(y)"
   ]
  },
  {
   "cell_type": "markdown",
   "id": "89b7f870-3ecd-49bc-aa0d-e037baff10fb",
   "metadata": {},
   "source": [
    "####  Neither x nor y looks normally distributed; they both are right skewed in the resulting histograms. The normality test confirms this and makes it clear that T-tests are not appropriate in this situation. The null hypothesis of the normality test is that the sample is normally distributed and the alternative is that it is not, so the resulting p values of 0 means we reject the null and learn that neither of these values are normally distributed. "
   ]
  },
  {
   "cell_type": "markdown",
   "id": "92ea80b1-e9fa-4524-946e-393640b920c4",
   "metadata": {},
   "source": [
    "#### 3d - Perform a two-sided Mann-Whitney U test on x and y. Clearly state the null and alternative hypothesis of this test. Based on the results of this test, what do you conclude about x and y?\n",
    "Null hypothesis: Trip durations are the same across both usertypes. / Alternative hypothesis: Trip durations in the x (Subscriber) group are different (less than or greater than) the y (Customer) group."
   ]
  },
  {
   "cell_type": "code",
   "execution_count": 26,
   "id": "3def512d-7403-45d7-82fc-7d3ef7f513ba",
   "metadata": {},
   "outputs": [
    {
     "data": {
      "text/plain": [
       "MannwhitneyuResult(statistic=74729121.5, pvalue=0.0034872532172883163)"
      ]
     },
     "execution_count": 26,
     "metadata": {},
     "output_type": "execute_result"
    }
   ],
   "source": [
    "stats.mannwhitneyu(x,y) "
   ]
  },
  {
   "cell_type": "markdown",
   "id": "f1d0927f-5aa2-4a37-b61d-f18842df81cc",
   "metadata": {},
   "source": [
    "#### 3e - Is your conclusion drawn from the Mann-Whitney U test in 3d) different than your conclusion drawn from the t-test in 3b)? If so, why might that be?\n",
    "\n",
    "Yes, the p value is very close to 0 in this result, almost the complete opposite of the p value result at .88 in 3b. This 0 result leads us to be confident in rejecting the null for the alternative, although we have not specified the alternative of x being less than versus greater than y. It appears that assuming that the x and y data was normally distributed changed the resulting statistic in 3b and did not allow us to get an accurate result based on our alternative hypothesis."
   ]
  },
  {
   "cell_type": "code",
   "execution_count": null,
   "id": "314c55dc-d40e-4541-ae72-e91d56f1b6c9",
   "metadata": {},
   "outputs": [],
   "source": []
  }
 ],
 "metadata": {
  "kernelspec": {
   "display_name": "Python 3 (ipykernel)",
   "language": "python",
   "name": "python3"
  },
  "language_info": {
   "codemirror_mode": {
    "name": "ipython",
    "version": 3
   },
   "file_extension": ".py",
   "mimetype": "text/x-python",
   "name": "python",
   "nbconvert_exporter": "python",
   "pygments_lexer": "ipython3",
   "version": "3.11.8"
  }
 },
 "nbformat": 4,
 "nbformat_minor": 5
}
